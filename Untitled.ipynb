{
 "cells": [
  {
   "cell_type": "code",
   "execution_count": 1,
   "metadata": {},
   "outputs": [],
   "source": [
    "import pandas as pd"
   ]
  },
  {
   "cell_type": "code",
   "execution_count": 52,
   "metadata": {},
   "outputs": [],
   "source": [
    "name = 'train_beta_99.csv'"
   ]
  },
  {
   "cell_type": "code",
   "execution_count": 53,
   "metadata": {},
   "outputs": [],
   "source": [
    "df = pd.read_csv('data/'+name, delimiter=';')"
   ]
  },
  {
   "cell_type": "code",
   "execution_count": 54,
   "metadata": {},
   "outputs": [
    {
     "data": {
      "text/html": [
       "<div>\n",
       "<style scoped>\n",
       "    .dataframe tbody tr th:only-of-type {\n",
       "        vertical-align: middle;\n",
       "    }\n",
       "\n",
       "    .dataframe tbody tr th {\n",
       "        vertical-align: top;\n",
       "    }\n",
       "\n",
       "    .dataframe thead th {\n",
       "        text-align: right;\n",
       "    }\n",
       "</style>\n",
       "<table border=\"1\" class=\"dataframe\">\n",
       "  <thead>\n",
       "    <tr style=\"text-align: right;\">\n",
       "      <th></th>\n",
       "      <th>CDR3</th>\n",
       "      <th>peptide</th>\n",
       "      <th>partition</th>\n",
       "      <th>binder</th>\n",
       "    </tr>\n",
       "  </thead>\n",
       "  <tbody>\n",
       "    <tr>\n",
       "      <th>0</th>\n",
       "      <td>ASRPGLMGGRPEQY</td>\n",
       "      <td>LLFGYPVYV</td>\n",
       "      <td>5</td>\n",
       "      <td>1</td>\n",
       "    </tr>\n",
       "    <tr>\n",
       "      <th>1</th>\n",
       "      <td>ASSAGLFPEQF</td>\n",
       "      <td>LLFGYPVYV</td>\n",
       "      <td>5</td>\n",
       "      <td>1</td>\n",
       "    </tr>\n",
       "    <tr>\n",
       "      <th>2</th>\n",
       "      <td>ASSQVSGLAGGQNTGELF</td>\n",
       "      <td>GLCTLVAML</td>\n",
       "      <td>5</td>\n",
       "      <td>1</td>\n",
       "    </tr>\n",
       "    <tr>\n",
       "      <th>3</th>\n",
       "      <td>ASSQDGLAGGAFNEQF</td>\n",
       "      <td>GLCTLVAML</td>\n",
       "      <td>5</td>\n",
       "      <td>1</td>\n",
       "    </tr>\n",
       "    <tr>\n",
       "      <th>4</th>\n",
       "      <td>ASSLVKLGIALIETQY</td>\n",
       "      <td>GLCTLVAML</td>\n",
       "      <td>5</td>\n",
       "      <td>1</td>\n",
       "    </tr>\n",
       "    <tr>\n",
       "      <th>...</th>\n",
       "      <td>...</td>\n",
       "      <td>...</td>\n",
       "      <td>...</td>\n",
       "      <td>...</td>\n",
       "    </tr>\n",
       "    <tr>\n",
       "      <th>55219</th>\n",
       "      <td>ASIRGTSGASGQETQY</td>\n",
       "      <td>LLFGYPVYV</td>\n",
       "      <td>5</td>\n",
       "      <td>0</td>\n",
       "    </tr>\n",
       "    <tr>\n",
       "      <th>55220</th>\n",
       "      <td>ASSLRGRGEGYT</td>\n",
       "      <td>LLFGYPVYV</td>\n",
       "      <td>5</td>\n",
       "      <td>0</td>\n",
       "    </tr>\n",
       "    <tr>\n",
       "      <th>55221</th>\n",
       "      <td>SAPGTGNQETQY</td>\n",
       "      <td>LLFGYPVYV</td>\n",
       "      <td>5</td>\n",
       "      <td>0</td>\n",
       "    </tr>\n",
       "    <tr>\n",
       "      <th>55222</th>\n",
       "      <td>SVEASGRGDNEQF</td>\n",
       "      <td>LLFGYPVYV</td>\n",
       "      <td>5</td>\n",
       "      <td>0</td>\n",
       "    </tr>\n",
       "    <tr>\n",
       "      <th>55223</th>\n",
       "      <td>ASSVHKAETNTGELF</td>\n",
       "      <td>LLFGYPVYV</td>\n",
       "      <td>5</td>\n",
       "      <td>0</td>\n",
       "    </tr>\n",
       "  </tbody>\n",
       "</table>\n",
       "<p>55224 rows × 4 columns</p>\n",
       "</div>"
      ],
      "text/plain": [
       "                     CDR3    peptide  partition  binder\n",
       "0          ASRPGLMGGRPEQY  LLFGYPVYV          5       1\n",
       "1             ASSAGLFPEQF  LLFGYPVYV          5       1\n",
       "2      ASSQVSGLAGGQNTGELF  GLCTLVAML          5       1\n",
       "3        ASSQDGLAGGAFNEQF  GLCTLVAML          5       1\n",
       "4        ASSLVKLGIALIETQY  GLCTLVAML          5       1\n",
       "...                   ...        ...        ...     ...\n",
       "55219    ASIRGTSGASGQETQY  LLFGYPVYV          5       0\n",
       "55220        ASSLRGRGEGYT  LLFGYPVYV          5       0\n",
       "55221        SAPGTGNQETQY  LLFGYPVYV          5       0\n",
       "55222       SVEASGRGDNEQF  LLFGYPVYV          5       0\n",
       "55223     ASSVHKAETNTGELF  LLFGYPVYV          5       0\n",
       "\n",
       "[55224 rows x 4 columns]"
      ]
     },
     "execution_count": 54,
     "metadata": {},
     "output_type": "execute_result"
    }
   ],
   "source": [
    "df"
   ]
  },
  {
   "cell_type": "code",
   "execution_count": 55,
   "metadata": {},
   "outputs": [],
   "source": [
    "df.rename(columns={\"CDR3\":\"CDR3b\"}, inplace=True)"
   ]
  },
  {
   "cell_type": "code",
   "execution_count": 56,
   "metadata": {},
   "outputs": [],
   "source": [
    "df.to_csv('data/'+name, index=False)"
   ]
  },
  {
   "cell_type": "code",
   "execution_count": null,
   "metadata": {},
   "outputs": [],
   "source": []
  }
 ],
 "metadata": {
  "kernelspec": {
   "display_name": "vax",
   "language": "python",
   "name": "vax"
  },
  "language_info": {
   "codemirror_mode": {
    "name": "ipython",
    "version": 3
   },
   "file_extension": ".py",
   "mimetype": "text/x-python",
   "name": "python",
   "nbconvert_exporter": "python",
   "pygments_lexer": "ipython3",
   "version": "3.6.13"
  }
 },
 "nbformat": 4,
 "nbformat_minor": 2
}
